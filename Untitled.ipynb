{
 "cells": [
  {
   "cell_type": "markdown",
   "metadata": {},
   "source": [
    "<h1> Data Analysis</h1>"
   ]
  },
  {
   "cell_type": "code",
   "execution_count": 51,
   "metadata": {},
   "outputs": [],
   "source": [
    "import pandas as pd \n",
    "import numpy as np\n",
    "import matplotlib.pyplot as plt\n",
    "import seaborn as sns"
   ]
  },
  {
   "cell_type": "code",
   "execution_count": 19,
   "metadata": {},
   "outputs": [
    {
     "data": {
      "text/html": [
       "<div>\n",
       "<style scoped>\n",
       "    .dataframe tbody tr th:only-of-type {\n",
       "        vertical-align: middle;\n",
       "    }\n",
       "\n",
       "    .dataframe tbody tr th {\n",
       "        vertical-align: top;\n",
       "    }\n",
       "\n",
       "    .dataframe thead th {\n",
       "        text-align: right;\n",
       "    }\n",
       "</style>\n",
       "<table border=\"1\" class=\"dataframe\">\n",
       "  <thead>\n",
       "    <tr style=\"text-align: right;\">\n",
       "      <th></th>\n",
       "      <th>Athelete_ID</th>\n",
       "      <th>Bike_Ride_cal_burned</th>\n",
       "      <th>Run_Cal_burned</th>\n",
       "      <th>Gym_Workout_Cal_Burned</th>\n",
       "      <th>Hike_Cal_Burned</th>\n",
       "      <th>Indoor_Swim_Cal_Burned</th>\n",
       "    </tr>\n",
       "  </thead>\n",
       "  <tbody>\n",
       "    <tr>\n",
       "      <th>0</th>\n",
       "      <td>1</td>\n",
       "      <td>730</td>\n",
       "      <td>600</td>\n",
       "      <td>482</td>\n",
       "      <td>752</td>\n",
       "      <td>152</td>\n",
       "    </tr>\n",
       "    <tr>\n",
       "      <th>1</th>\n",
       "      <td>2</td>\n",
       "      <td>692</td>\n",
       "      <td>686</td>\n",
       "      <td>508</td>\n",
       "      <td>839</td>\n",
       "      <td>536</td>\n",
       "    </tr>\n",
       "    <tr>\n",
       "      <th>2</th>\n",
       "      <td>3</td>\n",
       "      <td>706</td>\n",
       "      <td>817</td>\n",
       "      <td>481</td>\n",
       "      <td>478</td>\n",
       "      <td>152</td>\n",
       "    </tr>\n",
       "    <tr>\n",
       "      <th>3</th>\n",
       "      <td>4</td>\n",
       "      <td>714</td>\n",
       "      <td>610</td>\n",
       "      <td>377</td>\n",
       "      <td>1048</td>\n",
       "      <td>152</td>\n",
       "    </tr>\n",
       "    <tr>\n",
       "      <th>4</th>\n",
       "      <td>5</td>\n",
       "      <td>746</td>\n",
       "      <td>987</td>\n",
       "      <td>656</td>\n",
       "      <td>1400</td>\n",
       "      <td>76</td>\n",
       "    </tr>\n",
       "  </tbody>\n",
       "</table>\n",
       "</div>"
      ],
      "text/plain": [
       "   Athelete_ID  Bike_Ride_cal_burned  Run_Cal_burned  Gym_Workout_Cal_Burned  \\\n",
       "0            1                   730             600                     482   \n",
       "1            2                   692             686                     508   \n",
       "2            3                   706             817                     481   \n",
       "3            4                   714             610                     377   \n",
       "4            5                   746             987                     656   \n",
       "\n",
       "   Hike_Cal_Burned  Indoor_Swim_Cal_Burned  \n",
       "0              752                     152  \n",
       "1              839                     536  \n",
       "2              478                     152  \n",
       "3             1048                     152  \n",
       "4             1400                      76  "
      ]
     },
     "execution_count": 19,
     "metadata": {},
     "output_type": "execute_result"
    }
   ],
   "source": [
    "data = pd.read_csv(\"C:/Users/Vivek Kumar Singh/Downloads/FDA_CourseStatisticalDifferences_Dataset.csv\",sep=\";\")\n",
    "data.head()"
   ]
  },
  {
   "cell_type": "markdown",
   "metadata": {},
   "source": [
    "## Data Types"
   ]
  },
  {
   "cell_type": "code",
   "execution_count": 22,
   "metadata": {},
   "outputs": [
    {
     "name": "stdout",
     "output_type": "stream",
     "text": [
      "<class 'pandas.core.frame.DataFrame'>\n",
      "RangeIndex: 1000 entries, 0 to 999\n",
      "Data columns (total 6 columns):\n",
      " #   Column                  Non-Null Count  Dtype\n",
      "---  ------                  --------------  -----\n",
      " 0   Athelete_ID             1000 non-null   int64\n",
      " 1   Bike_Ride_cal_burned    1000 non-null   int64\n",
      " 2   Run_Cal_burned          1000 non-null   int64\n",
      " 3   Gym_Workout_Cal_Burned  1000 non-null   int64\n",
      " 4   Hike_Cal_Burned         1000 non-null   int64\n",
      " 5   Indoor_Swim_Cal_Burned  1000 non-null   int64\n",
      "dtypes: int64(6)\n",
      "memory usage: 47.0 KB\n"
     ]
    }
   ],
   "source": [
    "data.info()"
   ]
  },
  {
   "cell_type": "markdown",
   "metadata": {},
   "source": [
    "## Shape"
   ]
  },
  {
   "cell_type": "code",
   "execution_count": 25,
   "metadata": {},
   "outputs": [
    {
     "name": "stdout",
     "output_type": "stream",
     "text": [
      "Shape of Data Types i.e., Rows & Columns: (1000, 6)\n"
     ]
    }
   ],
   "source": [
    "print(\"Shape of Data Types i.e., Rows & Columns:\" ,data.shape)"
   ]
  },
  {
   "cell_type": "markdown",
   "metadata": {},
   "source": [
    "# Measure of Central Trendency / Location"
   ]
  },
  {
   "cell_type": "markdown",
   "metadata": {},
   "source": [
    "- A large number of observations in the sample tend to center around a single value. \n",
    "- This value can be considered as a single representative value of the desired metric for the sample. \n",
    "- As these values give the ‘location’ of a ‘central’ value of the sample, they are called “Measures of Location” or more commonly “Measures of Central Tendency” of the sample.\n",
    "- There are three types of central Trendency\n",
    "               1. Mean\n",
    "               2. Median\n",
    "               3. Mode"
   ]
  },
  {
   "cell_type": "markdown",
   "metadata": {},
   "source": [
    "## Mean "
   ]
  },
  {
   "cell_type": "markdown",
   "metadata": {},
   "source": [
    "- Mean can be defined for all ratio-scale and interval-scale data.\n",
    "- It is ratio of sum of data point and number of point.\n",
    "- It is denoted by x-bar.\n",
    "\n",
    "                   X = (x1 + x2 + ...........+ xn)/ n\n",
    "    \n",
    "    Where, \n",
    "         X = Mean\n",
    "         n = Number of Data Point\n",
    "         \n",
    "- <b> Note: - The total deviation around mean is always zero. </b>\n",
    "     \n",
    "     In other words, \n",
    "                 Σ𝑛 (𝑋𝑖 − 𝑋 ) = 0         "
   ]
  },
  {
   "cell_type": "code",
   "execution_count": 32,
   "metadata": {},
   "outputs": [
    {
     "name": "stdout",
     "output_type": "stream",
     "text": [
      "Mean of Data Set Variable :\n",
      " Athelete_ID               500.500\n",
      "Bike_Ride_cal_burned      701.944\n",
      "Run_Cal_burned            543.736\n",
      "Gym_Workout_Cal_Burned    417.231\n",
      "Hike_Cal_Burned           874.778\n",
      "Indoor_Swim_Cal_Burned    548.035\n",
      "dtype: float64\n"
     ]
    }
   ],
   "source": [
    "print(\"Mean of Data Set Variable :\\n\",data.mean())"
   ]
  },
  {
   "cell_type": "markdown",
   "metadata": {},
   "source": [
    "## Median"
   ]
  },
  {
   "cell_type": "markdown",
   "metadata": {},
   "source": [
    "- Median is the middle number of any data series which has been sorted in ascending (i.e. lowest to highest) or descending (i.e. highest to lowest) order. \n",
    "- If the series is <b>odd</b>, then the median is <b>exactly the middle number.</b> \n",
    "- If the series is <b>even</b>, then it is <b>the average of middle two numbers.</b>\n",
    "- Median is defined for ordinal data too, along with interval-scale or ratio-scale data."
   ]
  },
  {
   "cell_type": "code",
   "execution_count": 33,
   "metadata": {},
   "outputs": [
    {
     "data": {
      "text/plain": [
       "Athelete_ID               500.5\n",
       "Bike_Ride_cal_burned      679.0\n",
       "Run_Cal_burned            479.0\n",
       "Gym_Workout_Cal_Burned    312.0\n",
       "Hike_Cal_Burned           669.0\n",
       "Indoor_Swim_Cal_Burned    460.0\n",
       "dtype: float64"
      ]
     },
     "execution_count": 33,
     "metadata": {},
     "output_type": "execute_result"
    }
   ],
   "source": [
    "data.median()"
   ]
  },
  {
   "cell_type": "markdown",
   "metadata": {},
   "source": [
    "## Mode"
   ]
  },
  {
   "cell_type": "markdown",
   "metadata": {},
   "source": [
    "- <b>Mode is the most frequent number in an array i.e. the number with highest occurrences or frequency.</b> \n",
    "- Depending on the frequency of the data, a series might or might not have a mode. \n",
    "- <b>For example</b> \n",
    "         1. In a series like 10,10,10,10, 20, 30, \n",
    "               - Mode = 10 \n",
    "                 since it’s the most frequent (it has appeared 4 times out of 6 numbers). \n",
    "                 \n",
    "         2. A series like: 10, 20, 30, 40; \n",
    "              - It has no mode. \n",
    "              - The numbers have appeared with frequency 1. \n",
    "               \n",
    "- Mode is defined for all kinds of data,<b> viz. nominal, ordinal, interval- scale, and ratio-scale."
   ]
  },
  {
   "cell_type": "code",
   "execution_count": 48,
   "metadata": {},
   "outputs": [
    {
     "name": "stdout",
     "output_type": "stream",
     "text": [
      "Mode of given data set is \n",
      ": ModeResult(mode=array([[  1, 450, 364,  66,   0, 428]], dtype=int64), count=array([[ 1,  9,  9, 32,  5, 18]]))\n"
     ]
    }
   ],
   "source": [
    "import statistics \n",
    "from scipy import stats\n",
    "\n",
    "# Printing out mode of given data-set\n",
    "print(\"Mode of given data set is \\n:\", (stats.mode(data))) "
   ]
  },
  {
   "cell_type": "markdown",
   "metadata": {},
   "source": [
    "## Defind the Function & Create the mean & Median "
   ]
  },
  {
   "cell_type": "code",
   "execution_count": 115,
   "metadata": {},
   "outputs": [],
   "source": [
    "def central_trandency(df):\n",
    "    mean = df.mean()\n",
    "    median = df.median()\n",
    "    mode = stats.mode(df)\n",
    "    mean_table = pd.DataFrame({\"Mean\":mean,\"Median\":median})\n",
    "    return mean_table"
   ]
  },
  {
   "cell_type": "code",
   "execution_count": 116,
   "metadata": {},
   "outputs": [
    {
     "data": {
      "text/html": [
       "<div>\n",
       "<style scoped>\n",
       "    .dataframe tbody tr th:only-of-type {\n",
       "        vertical-align: middle;\n",
       "    }\n",
       "\n",
       "    .dataframe tbody tr th {\n",
       "        vertical-align: top;\n",
       "    }\n",
       "\n",
       "    .dataframe thead th {\n",
       "        text-align: right;\n",
       "    }\n",
       "</style>\n",
       "<table border=\"1\" class=\"dataframe\">\n",
       "  <thead>\n",
       "    <tr style=\"text-align: right;\">\n",
       "      <th></th>\n",
       "      <th>Mean</th>\n",
       "      <th>Median</th>\n",
       "    </tr>\n",
       "  </thead>\n",
       "  <tbody>\n",
       "    <tr>\n",
       "      <th>Athelete_ID</th>\n",
       "      <td>500.500</td>\n",
       "      <td>500.5</td>\n",
       "    </tr>\n",
       "    <tr>\n",
       "      <th>Bike_Ride_cal_burned</th>\n",
       "      <td>701.944</td>\n",
       "      <td>679.0</td>\n",
       "    </tr>\n",
       "    <tr>\n",
       "      <th>Run_Cal_burned</th>\n",
       "      <td>543.736</td>\n",
       "      <td>479.0</td>\n",
       "    </tr>\n",
       "    <tr>\n",
       "      <th>Gym_Workout_Cal_Burned</th>\n",
       "      <td>417.231</td>\n",
       "      <td>312.0</td>\n",
       "    </tr>\n",
       "    <tr>\n",
       "      <th>Hike_Cal_Burned</th>\n",
       "      <td>874.778</td>\n",
       "      <td>669.0</td>\n",
       "    </tr>\n",
       "    <tr>\n",
       "      <th>Indoor_Swim_Cal_Burned</th>\n",
       "      <td>548.035</td>\n",
       "      <td>460.0</td>\n",
       "    </tr>\n",
       "  </tbody>\n",
       "</table>\n",
       "</div>"
      ],
      "text/plain": [
       "                           Mean  Median\n",
       "Athelete_ID             500.500   500.5\n",
       "Bike_Ride_cal_burned    701.944   679.0\n",
       "Run_Cal_burned          543.736   479.0\n",
       "Gym_Workout_Cal_Burned  417.231   312.0\n",
       "Hike_Cal_Burned         874.778   669.0\n",
       "Indoor_Swim_Cal_Burned  548.035   460.0"
      ]
     },
     "execution_count": 116,
     "metadata": {},
     "output_type": "execute_result"
    }
   ],
   "source": [
    "central_trandency(data)"
   ]
  },
  {
   "cell_type": "markdown",
   "metadata": {},
   "source": [
    "<b>1. When we prefer Median over Mean or Mode?</b>\n",
    "- If data is <b>normally distributed or symmetric, then mean, median and mode are the same.</b>\n",
    "- However, for <b>non-symmetric/skewed data, median is preferred,</b> as that remains unchanged and is not affected by skewness in the data. \n",
    "- Also, Mode is mostly used for categorical (Nominal) data, where we need to find out which category is the most frequent. \n",
    "- A general rule of thumb for finding the best measure of central tendency is listed below:\n",
    "             1. For Symmetric interval or ratio data, mean is the central tendency measure to be used.\n",
    "             2. For Skewed interval or ratio data, median is the central tendency measure to be used.\n",
    "             3. For Ordinal data, median is the central tendency measure to be used."
   ]
  },
  {
   "cell_type": "markdown",
   "metadata": {},
   "source": [
    "# Percentiles and Quartiles"
   ]
  },
  {
   "cell_type": "markdown",
   "metadata": {},
   "source": [
    "- Percentile is a way of providing estimation of proportions of the data that should fall above and below a given value.\n",
    "- The pth percentile is a value such that \n",
    "            - (p)% of the observations are less than this value.\n",
    "            - (1 − p) % are greater, when the data is sorted. \n",
    "- <b>For example</b>: A 99 percentile score in an exam means the examinee has scored higher than 99% of the other candidates who took this exam.\n",
    "- It is also important to remember the associated terms:\n",
    "                1. 25th percentile of the data is the First Quartile (Q1).\n",
    "                2. 50th percentile is the Median or Second Quartile (Q2).\n",
    "                3. 75th percentile is the Third Quartile (Q3)."
   ]
  },
  {
   "cell_type": "markdown",
   "metadata": {},
   "source": [
    "# Measures of Variability"
   ]
  },
  {
   "cell_type": "markdown",
   "metadata": {},
   "source": [
    "- One must measure how the data is spread or scattered. \n",
    "- A variable with less variability indicates more confidence in making any conclusion from data based on the location parameter. \n",
    "- A high variability may indicate influence of some other unknown variable on the data.\n",
    "- Hence, variability of a data indicates how much we still do not know about the data. \n",
    "- The measures used to describe variability in a data are known as “Measures of Dispersion”. \n",
    "\n",
    "- Types of Measures of Dispersion\n",
    "             1. Range\n",
    "             2. Interquartile Range (IQR)\n",
    "             3. Variance\n",
    "             4. Standard Deviation\n",
    "             5. Coefficient of Variation."
   ]
  },
  {
   "cell_type": "markdown",
   "metadata": {},
   "source": [
    "## Range"
   ]
  },
  {
   "cell_type": "markdown",
   "metadata": {},
   "source": [
    "- <b>Range is the simplest measure of dispersion.\n",
    "- It is the difference between the minimum value and the maximum value in the dataset.</b> \n",
    "- It offers a crude insight into the spread of the data, but is very susceptible to outliers.\n",
    "- This measure does not make any assumption about the distribution of the data. This helps to capture the variation in the data. \n",
    "- This is a helpful measure when you want to focus only on the extremes like weather reports – here understanding the range of temperature in a given day is sufficient.\n",
    "- However, this measure is distorted by presence of outlier or extreme values in the data. \n",
    "- <b>Standard deviation is a better measure of spread due to less susceptibility to outliers; however, calculation of standard deviation is more complex than calculation of range.</b>"
   ]
  },
  {
   "cell_type": "markdown",
   "metadata": {},
   "source": [
    "## Interquartile Range (IQR)\n",
    "- Interquartile range or IQR is a related measure of range and it also measures the spread or variability of the data. \n",
    "- It indicates how the data in a series is spread from the mean.\n",
    "- Like range, IQR also does not make any assumption regarding distribution of data (i.e. it is non-parametric). \n",
    "- IQR measures the spread of the middle half of the data. \n",
    "- It is the difference between the third (75%) and first (25%) quartile of the data.\n",
    "- So, by definition, it accounts for only 50% of the data.\n",
    "- They are assumed to be uniformly spread around the mean if IQR is small.\n",
    "- For normally distributed data, this is closely related to standard deviation and is about 35% greater than standard deviation.\n",
    "- IQR can also help to determine the outlier in the data series. \n",
    "- Data values that deviate from twice the IQR are often defined as outlier, where as those deviating more than 3.5 times of IQR are far outliers. \n",
    "- <b>Note</b>, data needs to be sorted in ascending order to calculate IQR.\n",
    "\n",
    "                     IQR = Q3(75%) - Q1(25%)"
   ]
  },
  {
   "cell_type": "code",
   "execution_count": 61,
   "metadata": {},
   "outputs": [
    {
     "name": "stdout",
     "output_type": "stream",
     "text": [
      "Athelete_ID               499.50\n",
      "Bike_Ride_cal_burned      499.50\n",
      "Run_Cal_burned            300.75\n",
      "Gym_Workout_Cal_Burned    341.50\n",
      "Hike_Cal_Burned           653.25\n",
      "Indoor_Swim_Cal_Burned    393.00\n",
      "dtype: float64\n"
     ]
    }
   ],
   "source": [
    "Q1 = data.quantile(0.25)\n",
    "Q3 = data.quantile(0.75)\n",
    "IQR = Q3 - Q1\n",
    "print(IQR)"
   ]
  },
  {
   "cell_type": "markdown",
   "metadata": {},
   "source": [
    "## Population & Sample Variance\n",
    "- To get the ‘variability’ of the data from the ‘central’ value, we introduce the concept of deviation. \n",
    "- Deviation (representing variability) of a data point is usually measured from mean, the most popular measure of Central Tendency.\n",
    "- But, we have seen before that the total deviation around mean is always zero. \n",
    "- Hence, we measure the “average squared deviation” from mean, μ(Mu). We call this measure as “Variance”. \n",
    "- It is represented by σ2(sigma square). \n",
    "                                 \n",
    "                                 𝜎^2=Σ(𝑋𝑖−𝜇)^2/n\n",
    "\n",
    "- In the above formula, the assumption is that the actual population mean, i.e. μ, is known. Hence it is called “Population Variance”. \n",
    "- If the value of μ is not known, then it is estimated using 𝑋 , the sample mean. \n",
    "- Then the formula for variance changes slightly and we call that statistic as “Sample Variance”. \n",
    "- Please note that the denominator in a Sample Variance formula is 1 less than the number of observations in the sample.\n",
    "- Simply explained, Variance measures the variability of the data around its mean. High variance means there is more variability or volatility whereas low variance indicates less variability. \n",
    "- If variance of a series is zero that means all the numbers of that series are same."
   ]
  },
  {
   "cell_type": "code",
   "execution_count": 99,
   "metadata": {},
   "outputs": [
    {
     "name": "stdout",
     "output_type": "stream",
     "text": [
      "Athelete_ID                83333.250000\n",
      "Bike_Ride_cal_burned      115151.316864\n",
      "Run_Cal_burned            137990.610304\n",
      "Gym_Workout_Cal_Burned    124451.987639\n",
      "Hike_Cal_Burned           466384.368716\n",
      "Indoor_Swim_Cal_Burned    145132.483775\n",
      "dtype: float64\n"
     ]
    }
   ],
   "source": [
    "variance= np.var(data)\n",
    "\n",
    "print(variance)"
   ]
  },
  {
   "cell_type": "markdown",
   "metadata": {},
   "source": [
    "## Standard Deviation\n",
    "- Standard deviation is simply the square root of variance.\n",
    "- It is the parametric equivalent of Interquartile range. \n",
    "- This together with variance represents the variability in the data around mean. \n",
    "- This is also often termed as ‘volatility’.\n",
    "- Standard Deviation and Variance together are important measures of variability and are frequently used in statistics. \n",
    "- In financial risk management, investors often worry about volatility of return i.e. how much the return spreads from the average. \n",
    "- Standard deviation helps to provide measure of volatility of return and is considered to be a very important measure of risk.\n",
    "\n",
    "     <b>                                               Standard Deviation = √𝑉𝑎𝑟𝑖𝑎𝑛𝑐𝑒"
   ]
  },
  {
   "cell_type": "code",
   "execution_count": 63,
   "metadata": {},
   "outputs": [
    {
     "data": {
      "text/plain": [
       "Athelete_ID               288.819436\n",
       "Bike_Ride_cal_burned      339.509327\n",
       "Run_Cal_burned            371.656749\n",
       "Gym_Workout_Cal_Burned    352.954054\n",
       "Hike_Cal_Burned           683.265117\n",
       "Indoor_Swim_Cal_Burned    381.153200\n",
       "dtype: float64"
      ]
     },
     "execution_count": 63,
     "metadata": {},
     "output_type": "execute_result"
    }
   ],
   "source": [
    "data.std()"
   ]
  },
  {
   "cell_type": "markdown",
   "metadata": {},
   "source": [
    "## Coefficient of Variation\n",
    "- The coefficient of variation (CV) is a measure of relative variation.\n",
    "- It is the ratio of the standard deviation to the mean (average).\n",
    "- It is a unit free measure and is measured in percentage. \n",
    "- It is used to compare the variability in two or more data series with different units or very disparate averages.\n",
    "\n",
    "     <b>                       Coefficient of Variation = (σ/𝑥̅ ) * 100"
   ]
  },
  {
   "cell_type": "code",
   "execution_count": 70,
   "metadata": {},
   "outputs": [
    {
     "data": {
      "text/plain": [
       "Athelete_ID               57.706181\n",
       "Bike_Ride_cal_burned      48.367010\n",
       "Run_Cal_burned            68.352426\n",
       "Gym_Workout_Cal_Burned    84.594398\n",
       "Hike_Cal_Burned           78.107259\n",
       "Indoor_Swim_Cal_Burned    69.549062\n",
       "dtype: float64"
      ]
     },
     "execution_count": 70,
     "metadata": {},
     "output_type": "execute_result"
    }
   ],
   "source": [
    "cv = (data.std()/data.mean()) * 100\n",
    "cv"
   ]
  },
  {
   "cell_type": "markdown",
   "metadata": {},
   "source": [
    "## Create a table to find std,cv,vaiance and IQR "
   ]
  },
  {
   "cell_type": "code",
   "execution_count": 100,
   "metadata": {},
   "outputs": [],
   "source": [
    "def variability(df):\n",
    "    standerd_dev = df.std()\n",
    "    coff_of_variance = (df.std()/df.mean()) * 100\n",
    "    Q1 = df.quantile(0.25)\n",
    "    Q3 = df.quantile(0.75)\n",
    "    iqr = Q3 - Q1\n",
    "    variance= np.var(df)\n",
    "    variability_table = pd.DataFrame({\"std\":standerd_dev,\"cv\":coff_of_variance,\"IQR\":iqr,\"var\":variance})\n",
    "    return variability_table"
   ]
  },
  {
   "cell_type": "code",
   "execution_count": 101,
   "metadata": {},
   "outputs": [
    {
     "data": {
      "text/html": [
       "<div>\n",
       "<style scoped>\n",
       "    .dataframe tbody tr th:only-of-type {\n",
       "        vertical-align: middle;\n",
       "    }\n",
       "\n",
       "    .dataframe tbody tr th {\n",
       "        vertical-align: top;\n",
       "    }\n",
       "\n",
       "    .dataframe thead th {\n",
       "        text-align: right;\n",
       "    }\n",
       "</style>\n",
       "<table border=\"1\" class=\"dataframe\">\n",
       "  <thead>\n",
       "    <tr style=\"text-align: right;\">\n",
       "      <th></th>\n",
       "      <th>std</th>\n",
       "      <th>cv</th>\n",
       "      <th>IQR</th>\n",
       "      <th>var</th>\n",
       "    </tr>\n",
       "  </thead>\n",
       "  <tbody>\n",
       "    <tr>\n",
       "      <th>Athelete_ID</th>\n",
       "      <td>288.819436</td>\n",
       "      <td>57.706181</td>\n",
       "      <td>499.50</td>\n",
       "      <td>83333.250000</td>\n",
       "    </tr>\n",
       "    <tr>\n",
       "      <th>Bike_Ride_cal_burned</th>\n",
       "      <td>339.509327</td>\n",
       "      <td>48.367010</td>\n",
       "      <td>499.50</td>\n",
       "      <td>115151.316864</td>\n",
       "    </tr>\n",
       "    <tr>\n",
       "      <th>Run_Cal_burned</th>\n",
       "      <td>371.656749</td>\n",
       "      <td>68.352426</td>\n",
       "      <td>300.75</td>\n",
       "      <td>137990.610304</td>\n",
       "    </tr>\n",
       "    <tr>\n",
       "      <th>Gym_Workout_Cal_Burned</th>\n",
       "      <td>352.954054</td>\n",
       "      <td>84.594398</td>\n",
       "      <td>341.50</td>\n",
       "      <td>124451.987639</td>\n",
       "    </tr>\n",
       "    <tr>\n",
       "      <th>Hike_Cal_Burned</th>\n",
       "      <td>683.265117</td>\n",
       "      <td>78.107259</td>\n",
       "      <td>653.25</td>\n",
       "      <td>466384.368716</td>\n",
       "    </tr>\n",
       "    <tr>\n",
       "      <th>Indoor_Swim_Cal_Burned</th>\n",
       "      <td>381.153200</td>\n",
       "      <td>69.549062</td>\n",
       "      <td>393.00</td>\n",
       "      <td>145132.483775</td>\n",
       "    </tr>\n",
       "  </tbody>\n",
       "</table>\n",
       "</div>"
      ],
      "text/plain": [
       "                               std         cv     IQR            var\n",
       "Athelete_ID             288.819436  57.706181  499.50   83333.250000\n",
       "Bike_Ride_cal_burned    339.509327  48.367010  499.50  115151.316864\n",
       "Run_Cal_burned          371.656749  68.352426  300.75  137990.610304\n",
       "Gym_Workout_Cal_Burned  352.954054  84.594398  341.50  124451.987639\n",
       "Hike_Cal_Burned         683.265117  78.107259  653.25  466384.368716\n",
       "Indoor_Swim_Cal_Burned  381.153200  69.549062  393.00  145132.483775"
      ]
     },
     "execution_count": 101,
     "metadata": {},
     "output_type": "execute_result"
    }
   ],
   "source": [
    "variability(data)"
   ]
  },
  {
   "cell_type": "markdown",
   "metadata": {},
   "source": [
    "# Outlier Identification"
   ]
  },
  {
   "cell_type": "markdown",
   "metadata": {},
   "source": [
    "- We will start the process of finding outliers by running the summary statistics on the variables.\n",
    "- This is done using the describe() function below, which provides a statistical summary of all the quantitative variables."
   ]
  },
  {
   "cell_type": "code",
   "execution_count": 118,
   "metadata": {},
   "outputs": [
    {
     "data": {
      "text/html": [
       "<div>\n",
       "<style scoped>\n",
       "    .dataframe tbody tr th:only-of-type {\n",
       "        vertical-align: middle;\n",
       "    }\n",
       "\n",
       "    .dataframe tbody tr th {\n",
       "        vertical-align: top;\n",
       "    }\n",
       "\n",
       "    .dataframe thead th {\n",
       "        text-align: right;\n",
       "    }\n",
       "</style>\n",
       "<table border=\"1\" class=\"dataframe\">\n",
       "  <thead>\n",
       "    <tr style=\"text-align: right;\">\n",
       "      <th></th>\n",
       "      <th>Athelete_ID</th>\n",
       "      <th>Bike_Ride_cal_burned</th>\n",
       "      <th>Run_Cal_burned</th>\n",
       "      <th>Gym_Workout_Cal_Burned</th>\n",
       "      <th>Hike_Cal_Burned</th>\n",
       "      <th>Indoor_Swim_Cal_Burned</th>\n",
       "    </tr>\n",
       "  </thead>\n",
       "  <tbody>\n",
       "    <tr>\n",
       "      <th>count</th>\n",
       "      <td>1000.000000</td>\n",
       "      <td>1000.000000</td>\n",
       "      <td>1000.000000</td>\n",
       "      <td>1000.000000</td>\n",
       "      <td>1000.000000</td>\n",
       "      <td>1000.0000</td>\n",
       "    </tr>\n",
       "    <tr>\n",
       "      <th>mean</th>\n",
       "      <td>500.500000</td>\n",
       "      <td>701.944000</td>\n",
       "      <td>543.736000</td>\n",
       "      <td>417.231000</td>\n",
       "      <td>874.778000</td>\n",
       "      <td>548.0350</td>\n",
       "    </tr>\n",
       "    <tr>\n",
       "      <th>std</th>\n",
       "      <td>288.819436</td>\n",
       "      <td>339.509327</td>\n",
       "      <td>371.656749</td>\n",
       "      <td>352.954054</td>\n",
       "      <td>683.265117</td>\n",
       "      <td>381.1532</td>\n",
       "    </tr>\n",
       "    <tr>\n",
       "      <th>min</th>\n",
       "      <td>1.000000</td>\n",
       "      <td>0.000000</td>\n",
       "      <td>0.000000</td>\n",
       "      <td>0.000000</td>\n",
       "      <td>0.000000</td>\n",
       "      <td>0.0000</td>\n",
       "    </tr>\n",
       "    <tr>\n",
       "      <th>25%</th>\n",
       "      <td>250.750000</td>\n",
       "      <td>450.000000</td>\n",
       "      <td>348.750000</td>\n",
       "      <td>175.000000</td>\n",
       "      <td>425.750000</td>\n",
       "      <td>298.0000</td>\n",
       "    </tr>\n",
       "    <tr>\n",
       "      <th>50%</th>\n",
       "      <td>500.500000</td>\n",
       "      <td>679.000000</td>\n",
       "      <td>479.000000</td>\n",
       "      <td>312.000000</td>\n",
       "      <td>669.000000</td>\n",
       "      <td>460.0000</td>\n",
       "    </tr>\n",
       "    <tr>\n",
       "      <th>75%</th>\n",
       "      <td>750.250000</td>\n",
       "      <td>949.500000</td>\n",
       "      <td>649.500000</td>\n",
       "      <td>516.500000</td>\n",
       "      <td>1079.000000</td>\n",
       "      <td>691.0000</td>\n",
       "    </tr>\n",
       "    <tr>\n",
       "      <th>max</th>\n",
       "      <td>1000.000000</td>\n",
       "      <td>1889.000000</td>\n",
       "      <td>4484.000000</td>\n",
       "      <td>2469.000000</td>\n",
       "      <td>5556.000000</td>\n",
       "      <td>4308.0000</td>\n",
       "    </tr>\n",
       "  </tbody>\n",
       "</table>\n",
       "</div>"
      ],
      "text/plain": [
       "       Athelete_ID  Bike_Ride_cal_burned  Run_Cal_burned  \\\n",
       "count  1000.000000           1000.000000     1000.000000   \n",
       "mean    500.500000            701.944000      543.736000   \n",
       "std     288.819436            339.509327      371.656749   \n",
       "min       1.000000              0.000000        0.000000   \n",
       "25%     250.750000            450.000000      348.750000   \n",
       "50%     500.500000            679.000000      479.000000   \n",
       "75%     750.250000            949.500000      649.500000   \n",
       "max    1000.000000           1889.000000     4484.000000   \n",
       "\n",
       "       Gym_Workout_Cal_Burned  Hike_Cal_Burned  Indoor_Swim_Cal_Burned  \n",
       "count             1000.000000      1000.000000               1000.0000  \n",
       "mean               417.231000       874.778000                548.0350  \n",
       "std                352.954054       683.265117                381.1532  \n",
       "min                  0.000000         0.000000                  0.0000  \n",
       "25%                175.000000       425.750000                298.0000  \n",
       "50%                312.000000       669.000000                460.0000  \n",
       "75%                516.500000      1079.000000                691.0000  \n",
       "max               2469.000000      5556.000000               4308.0000  "
      ]
     },
     "execution_count": 118,
     "metadata": {},
     "output_type": "execute_result"
    }
   ],
   "source": [
    "data.describe()"
   ]
  },
  {
   "cell_type": "markdown",
   "metadata": {},
   "source": [
    "## Identifying Outliers with Interquartile Range (IQR)\n",
    "- The interquartile range (IQR) is a measure of statistical dispersion and is calculated as the difference between the 75th and 25th percentiles.\n",
    "- It is represented by the formula \n",
    "                         \n",
    "                         IQR = Q3 − Q1. \n",
    "                       "
   ]
  },
  {
   "cell_type": "code",
   "execution_count": 119,
   "metadata": {},
   "outputs": [
    {
     "name": "stdout",
     "output_type": "stream",
     "text": [
      "Athelete_ID               499.50\n",
      "Bike_Ride_cal_burned      499.50\n",
      "Run_Cal_burned            300.75\n",
      "Gym_Workout_Cal_Burned    341.50\n",
      "Hike_Cal_Burned           653.25\n",
      "Indoor_Swim_Cal_Burned    393.00\n",
      "dtype: float64\n"
     ]
    }
   ],
   "source": [
    "Q1 = data.quantile(0.25)\n",
    "Q3 = data.quantile(0.75)\n",
    "IQR = Q3 - Q1\n",
    "print(IQR)"
   ]
  },
  {
   "cell_type": "markdown",
   "metadata": {},
   "source": [
    "- The above output prints the IQR scores, which can be used to detect outliers. \n",
    "- The code below generates an output with the 'True' and 'False' values. \n",
    "- Points where the values are 'True' represent the presence of the outlier."
   ]
  },
  {
   "cell_type": "code",
   "execution_count": 120,
   "metadata": {},
   "outputs": [
    {
     "name": "stdout",
     "output_type": "stream",
     "text": [
      "     Athelete_ID  Bike_Ride_cal_burned  Run_Cal_burned  \\\n",
      "0          False                 False           False   \n",
      "1          False                 False           False   \n",
      "2          False                 False           False   \n",
      "3          False                 False           False   \n",
      "4          False                 False           False   \n",
      "..           ...                   ...             ...   \n",
      "995        False                 False           False   \n",
      "996        False                 False           False   \n",
      "997        False                 False           False   \n",
      "998        False                 False            True   \n",
      "999        False                 False           False   \n",
      "\n",
      "     Gym_Workout_Cal_Burned  Hike_Cal_Burned  Indoor_Swim_Cal_Burned  \n",
      "0                     False            False                   False  \n",
      "1                     False            False                   False  \n",
      "2                     False            False                   False  \n",
      "3                     False            False                   False  \n",
      "4                     False            False                   False  \n",
      "..                      ...              ...                     ...  \n",
      "995                   False            False                   False  \n",
      "996                   False            False                   False  \n",
      "997                   False            False                    True  \n",
      "998                   False            False                    True  \n",
      "999                   False            False                   False  \n",
      "\n",
      "[1000 rows x 6 columns]\n"
     ]
    }
   ],
   "source": [
    "print((data < (Q1 - 1.5 *IQR))| (data > (Q3 + 1.5*IQR)))"
   ]
  },
  {
   "cell_type": "markdown",
   "metadata": {},
   "source": [
    "## Identifying Outliers with Skewness\n",
    "- Several machine learning algorithms make the assumption that the data follow a normal (or Gaussian) distribution. This is easy to check with the skewness value, which explains the extent to which the data is normally distributed. \n",
    "- Ideally, the skewness value should be between -1 and +1, and any major deviation from this range indicates the presence of extreme values."
   ]
  },
  {
   "attachments": {
    "image.png": {
     "image/png": "[encoded data removed]"
    }
   },
   "cell_type": "markdown",
   "metadata": {},
   "source": [
    "<b>Skewness</b>\n",
    "- Skewness is a measure of asymmetry of a distribution. \n",
    "- Another measure that describes the shape of a distribution is kurtosis.\n",
    "- In a normal distribution, the mean divides the curve symmetrically into two equal parts at the median and the value of skewness is zero.\n",
    "- When a distribution is asymmetrical the tail of the distribution is skewed to one side-to the right or to the left.\n",
    "- When the value of the skewness is negative, the tail of the distribution is longer towards the left hand side of the curve.\n",
    "- When the value of the skewness is positive, the tail of the distribution is longer towards the right hand side of the curve.\n",
    "\n",
    "\n",
    " <img> ![image.png](attachment:image.png)"
   ]
  },
  {
   "cell_type": "code",
   "execution_count": 121,
   "metadata": {},
   "outputs": [
    {
     "name": "stdout",
     "output_type": "stream",
     "text": [
      "Athelete_ID               0.000000\n",
      "Bike_Ride_cal_burned      0.307684\n",
      "Run_Cal_burned            3.982741\n",
      "Gym_Workout_Cal_Burned    1.781901\n",
      "Hike_Cal_Burned           2.029127\n",
      "Indoor_Swim_Cal_Burned    2.508048\n",
      "dtype: float64\n"
     ]
    }
   ],
   "source": [
    "print(data.skew())"
   ]
  },
  {
   "cell_type": "markdown",
   "metadata": {},
   "source": [
    "- <b>skewness = 0 : normally distributed.\n",
    "- <b>skewness > 0 : more weight in the left tail of the distribution.\n",
    "- skewness < 0 : more weight in the right tail of the distribution. \n",
    "\n",
    "\n",
    "\n",
    "- A skewness value of 0 in the output denotes a symmetrical distribution of values in row 1.\n",
    "- A negative skewness value in the output indicates an asymmetry in the distribution corresponding to row 2 and the tail is larger towards the left hand side of the distribution.\n",
    "- A positive skewness value in the output indicates an asymmetry in the distribution corresponding to row 3 and the tail is larger towards the right hand side of the distribution."
   ]
  },
  {
   "attachments": {
    "image.png": {
     "image/png": "[encoded data removed]"
    }
   },
   "cell_type": "markdown",
   "metadata": {},
   "source": [
    "<b>Kurtosis</b>\n",
    "- Kurtosis is the measure of thickness or heaviness of the given distribution.\n",
    "\n",
    "- Its actually represents the height of the distribution.\n",
    "\n",
    "- The distribution with kurtosis equal to3 is known as mesokurtic. A random variable which follows normal distribution has kurtosis 3.\n",
    "\n",
    "- If the kurtosis is less than three, the distribution is called as platykurtic. Here,the distribution has shorter and thinner tails than normal distribution.\n",
    "\n",
    "- If the kurtosis is greater than three, the distribution is called as leptykurtic. Here, the distribution has longer and fatter tails than normal distribution.\n",
    "\n",
    "- For calculating kurtosis by using df.kurtosis() python inbuilt function\n",
    "\n",
    "\n",
    "![image.png](attachment:image.png)"
   ]
  },
  {
   "cell_type": "code",
   "execution_count": 122,
   "metadata": {},
   "outputs": [
    {
     "name": "stdout",
     "output_type": "stream",
     "text": [
      "Athelete_ID               -1.200000\n",
      "Bike_Ride_cal_burned      -0.504260\n",
      "Run_Cal_burned            28.032100\n",
      "Gym_Workout_Cal_Burned     3.459950\n",
      "Hike_Cal_Burned            6.044157\n",
      "Indoor_Swim_Cal_Burned    13.888801\n",
      "dtype: float64\n"
     ]
    }
   ],
   "source": [
    "print(data.kurtosis())"
   ]
  },
  {
   "cell_type": "markdown",
   "metadata": {},
   "source": [
    "# Identifying Outliers with Visualization\n",
    "\n",
    "## Box Plot</b>\n",
    "- The box plot is a standardized way of displaying the distribution of data based on the five-number summary (minimum, first quartile (Q1), median, third quartile (Q3), and maximum). \n",
    "- It is often used to identify data distribution and detect outliers."
   ]
  },
  {
   "cell_type": "code",
   "execution_count": 129,
   "metadata": {},
   "outputs": [
    {
     "data": {
      "image/png": "[encoded data removed]",
      "text/plain": [
       "<Figure size 432x288 with 1 Axes>"
      ]
     },
     "metadata": {
      "needs_background": "light"
     },
     "output_type": "display_data"
    },
    {
     "data": {
      "image/png": "[encoded data removed]",
      "text/plain": [
       "<Figure size 432x288 with 1 Axes>"
      ]
     },
     "metadata": {
      "needs_background": "light"
     },
     "output_type": "display_data"
    },
    {
     "data": {
      "image/png": "[encoded data removed]",
      "text/plain": [
       "<Figure size 432x288 with 1 Axes>"
      ]
     },
     "metadata": {
      "needs_background": "light"
     },
     "output_type": "display_data"
    },
    {
     "data": {
      "image/png": "[encoded data removed]",
      "text/plain": [
       "<Figure size 432x288 with 1 Axes>"
      ]
     },
     "metadata": {
      "needs_background": "light"
     },
     "output_type": "display_data"
    },
    {
     "data": {
      "image/png": "[encoded data removed]",
      "text/plain": [
       "<Figure size 432x288 with 1 Axes>"
      ]
     },
     "metadata": {
      "needs_background": "light"
     },
     "output_type": "display_data"
    },
    {
     "data": {
      "image/png": "[encoded data removed]",
      "text/plain": [
       "<Figure size 432x288 with 1 Axes>"
      ]
     },
     "metadata": {
      "needs_background": "light"
     },
     "output_type": "display_data"
    }
   ],
   "source": [
    "for i in data.columns:\n",
    "    data.boxplot(column=i)\n",
    "    plt.show()"
   ]
  },
  {
   "cell_type": "markdown",
   "metadata": {},
   "source": [
    "## Histogram\n",
    "- A histogram is used to visualize the distribution of a numerical variable. \n",
    "- An outlier will appear outside the overall pattern of distribution. "
   ]
  },
  {
   "cell_type": "code",
   "execution_count": 130,
   "metadata": {},
   "outputs": [
    {
     "data": {
      "image/png": "[encoded data removed]",
      "text/plain": [
       "<Figure size 432x288 with 1 Axes>"
      ]
     },
     "metadata": {
      "needs_background": "light"
     },
     "output_type": "display_data"
    },
    {
     "data": {
      "image/png": "[encoded data removed]",
      "text/plain": [
       "<Figure size 432x288 with 1 Axes>"
      ]
     },
     "metadata": {
      "needs_background": "light"
     },
     "output_type": "display_data"
    },
    {
     "data": {
      "image/png": "[encoded data removed]",
      "text/plain": [
       "<Figure size 432x288 with 1 Axes>"
      ]
     },
     "metadata": {
      "needs_background": "light"
     },
     "output_type": "display_data"
    },
    {
     "data": {
      "image/png": "[encoded data removed]",
      "text/plain": [
       "<Figure size 432x288 with 1 Axes>"
      ]
     },
     "metadata": {
      "needs_background": "light"
     },
     "output_type": "display_data"
    },
    {
     "data": {
      "image/png": "[encoded data removed]",
      "text/plain": [
       "<Figure size 432x288 with 1 Axes>"
      ]
     },
     "metadata": {
      "needs_background": "light"
     },
     "output_type": "display_data"
    },
    {
     "data": {
      "image/png": "[encoded data removed]",
      "text/plain": [
       "<Figure size 432x288 with 1 Axes>"
      ]
     },
     "metadata": {
      "needs_background": "light"
     },
     "output_type": "display_data"
    }
   ],
   "source": [
    "for i in data.columns:\n",
    "    data.hist(column=i)\n",
    "    plt.show()"
   ]
  },
  {
   "cell_type": "markdown",
   "metadata": {},
   "source": [
    "## Scatterplot\n",
    "- A scatterplot visualizes the relationship between two quantitative variables.\n",
    "- The data are displayed as a collection of points, and any points that fall outside the general clustering of the two variables may indicate outliers. "
   ]
  },
  {
   "cell_type": "markdown",
   "metadata": {},
   "source": [
    "# Outlier Treatment\n",
    "- Once we have identified the outliers, we need to treat them. There are several techniques for this, and we will discuss the most widely used ones below.\n",
    "\n",
    "## Quantile-based Flooring and Capping\n",
    "- In this technique, we will do the flooring (e.g., the 10th percentile) for the lower values and capping (e.g., the 90th percentile) for the higher values. \n",
    "- The lines of code below print the 10th and 90th percentiles of the variable respectively. \n",
    "- These values will be used for quantile-based flooring and capping."
   ]
  },
  {
   "cell_type": "code",
   "execution_count": 133,
   "metadata": {},
   "outputs": [
    {
     "name": "stdout",
     "output_type": "stream",
     "text": [
      "Athelete_ID                900.1\n",
      "Bike_Ride_cal_burned      1161.1\n",
      "Run_Cal_burned             848.0\n",
      "Gym_Workout_Cal_Burned     952.2\n",
      "Hike_Cal_Burned           1784.1\n",
      "Indoor_Swim_Cal_Burned     994.6\n",
      "Name: 0.9, dtype: float64\n"
     ]
    }
   ],
   "source": [
    "print(data.quantile(0.90))"
   ]
  },
  {
   "cell_type": "code",
   "execution_count": 132,
   "metadata": {},
   "outputs": [
    {
     "name": "stdout",
     "output_type": "stream",
     "text": [
      "Athelete_ID               100.9\n",
      "Bike_Ride_cal_burned      266.0\n",
      "Run_Cal_burned            224.7\n",
      "Gym_Workout_Cal_Burned     96.8\n",
      "Hike_Cal_Burned           260.0\n",
      "Indoor_Swim_Cal_Burned    183.6\n",
      "Name: 0.1, dtype: float64\n"
     ]
    }
   ],
   "source": [
    "print(data.quantile(0.10))"
   ]
  },
  {
   "cell_type": "code",
   "execution_count": 134,
   "metadata": {},
   "outputs": [
    {
     "name": "stdout",
     "output_type": "stream",
     "text": [
      "-0.0012566166166679974\n"
     ]
    }
   ],
   "source": [
    "data[\"Athelete_ID\"] = np.where(data[\"Athelete_ID\"] <100.0, 100.0,data['Athelete_ID'])\n",
    "data[\"Athelete_ID\"] = np.where(data[\"Athelete_ID\"] >900.0, 900.0,data['Athelete_ID'])\n",
    "print(data['Athelete_ID'].skew())"
   ]
  },
  {
   "cell_type": "markdown",
   "metadata": {},
   "source": [
    "## Trimming\n",
    "- In this method, we completely remove data points that are outliers."
   ]
  },
  {
   "cell_type": "code",
   "execution_count": 145,
   "metadata": {},
   "outputs": [
    {
     "data": {
      "text/plain": [
       "count    0.0\n",
       "mean     NaN\n",
       "std      NaN\n",
       "min      NaN\n",
       "25%      NaN\n",
       "50%      NaN\n",
       "75%      NaN\n",
       "max      NaN\n",
       "Name: Bike_Ride_cal_burned, dtype: float64"
      ]
     },
     "execution_count": 145,
     "metadata": {},
     "output_type": "execute_result"
    }
   ],
   "source": [
    "index = data[(data['Bike_Ride_cal_burned'] >= 900)|(data['Bike_Ride_cal_burned'] <= 100)].index\n",
    "data.drop(index, inplace=True)\n",
    "data['Bike_Ride_cal_burned'].describe()"
   ]
  },
  {
   "cell_type": "markdown",
   "metadata": {},
   "source": [
    "## IQR Score\n",
    "- This technique uses the IQR scores calculated earlier to remove outliers.\n",
    "- The rule of thumb is that anything not in the range of (Q1 - 1.5 IQR) and (Q3 + 1.5 IQR) is an outlier, and can be removed."
   ]
  },
  {
   "cell_type": "code",
   "execution_count": 146,
   "metadata": {},
   "outputs": [
    {
     "name": "stdout",
     "output_type": "stream",
     "text": [
      "(0, 6)\n"
     ]
    }
   ],
   "source": [
    "data_out = data[~((data < (Q1 - 1.5 * IQR)) |(data > (Q3 + 1.5 * IQR))).any(axis=1)]\n",
    "print(data_out.shape)"
   ]
  },
  {
   "cell_type": "markdown",
   "metadata": {},
   "source": [
    "## Log Transformation\n",
    "- Transformation of the skewed variables may also help correct the distribution of the variables. \n",
    "- These could be logarithmic, square root, or square transformations."
   ]
  },
  {
   "cell_type": "code",
   "execution_count": null,
   "metadata": {},
   "outputs": [],
   "source": [
    "df[\"Log_Loanamt\"] = df[\"Loan_amount\"].map(lambda i: np.log(i) if i > 0 else 0) \n",
    "print(df['Loan_amount'].skew())\n",
    "print(df['Log_Loanamt'].skew())"
   ]
  },
  {
   "cell_type": "markdown",
   "metadata": {},
   "source": [
    "## Replacing Outliers with Median Values\n",
    "- In this technique, we replace the extreme values with median values. \n",
    "- It is advised to not use mean values as they are affected by outliers."
   ]
  },
  {
   "cell_type": "code",
   "execution_count": null,
   "metadata": {},
   "outputs": [],
   "source": [
    "print(df['Loan_amount'].quantile(0.50)) \n",
    "print(df['Loan_amount'].quantile(0.95)) \n",
    "df['Loan_amount'] = np.where(df['Loan_amount'] > 325, 140, df['Loan_amount'])\n",
    "df.describe()"
   ]
  },
  {
   "cell_type": "markdown",
   "metadata": {},
   "source": [
    "# Basic Bivariate Analysis\n",
    "## Univariate Analysis\n",
    "- Interpreting one variable at a time. This type of analysis is called Univariate Analysis.\n",
    "\n",
    "## Bivariate Analysis\n",
    "- However, in many real-world situations, descriptive analytics is done through simultaneous study of two or more variables. --- The analysis using two variables is referred to as Bivariate Analysis. \n",
    "\n",
    "## Multivariate Analysis\n",
    "- When more than two variables are analyzed together, that is referred to as Multivariate Analysis. More advanced techniques are used to conduct multivariate analyses. "
   ]
  },
  {
   "cell_type": "markdown",
   "metadata": {},
   "source": [
    "# Correlation\n",
    "- Variables within a dataset can be related for lots of reasons.\n",
    "\n",
    "<b>For example:</b>\n",
    "\n",
    "- One variable could cause or depend on the values of another variable.\n",
    "- One variable could be lightly associated with another variable.\n",
    "- Two variables could depend on a third unknown variable.\n",
    "\n",
    "\n",
    "- A correlation could be positive, meaning both variables move in the same direction, or negative, meaning that when one variable’s value increases, the other variables’ values decrease. Correlation can also be neutral or zero, meaning that the variables are unrelated.\n",
    "                     1.  Positive Correlation: both variables change in the same direction.\n",
    "                     2.  Neutral Correlation: No relationship in the change of the variables.\n",
    "                     3.  Negative Correlation: variables change in opposite directions.\n",
    "\n",
    "- The performance of some algorithms can deteriorate if two or more variables are tightly related, called multicollinearity. \n",
    "\n",
    "\n",
    "- The structure of the relationship may be known, e.g. it may be linear, or we may have no idea whether a relationship exists between two variables or what structure it may take. Depending what is known about the relationship and the distribution of the variables, different correlation scores can be calculated."
   ]
  },
  {
   "cell_type": "markdown",
   "metadata": {},
   "source": [
    "## Pearson’s Correlation\n",
    "- In simple words, correlation is a measure that tells how closely two variables move in the same or opposite direction. \n",
    "- A positive value indicates that they move in the same direction (i.e. if one increases other increases).\n",
    "- A negative value indicates the opposite. \n",
    "- It indicates the strength of association of two variables.\n",
    "- This measures the degree of linear relationship between two numeric variables and lies between -1 to +1. \n",
    "- It is represented by ‘r’.\n",
    "                 1. r=1 means perfect positive correlation\n",
    "                 2. r=-1 means perfect negative correlation\n",
    "                 3. r=0 means no linear correlation (note, it does not mean no correlation)"
   ]
  },
  {
   "cell_type": "code",
   "execution_count": 147,
   "metadata": {},
   "outputs": [
    {
     "name": "stderr",
     "output_type": "stream",
     "text": [
      "C:\\Users\\Vivek Kumar Singh\\anaconda3\\lib\\site-packages\\seaborn\\matrix.py:203: RuntimeWarning: All-NaN slice encountered\n",
      "  vmin = np.nanmin(calc_data)\n",
      "C:\\Users\\Vivek Kumar Singh\\anaconda3\\lib\\site-packages\\seaborn\\matrix.py:208: RuntimeWarning: All-NaN slice encountered\n",
      "  vmax = np.nanmax(calc_data)\n"
     ]
    },
    {
     "data": {
      "text/plain": [
       "<matplotlib.axes._subplots.AxesSubplot at 0x1e1f61e0fa0>"
      ]
     },
     "execution_count": 147,
     "metadata": {},
     "output_type": "execute_result"
    },
    {
     "data": {
      "image/png": "[encoded data removed]",
      "text/plain": [
       "<Figure size 432x288 with 2 Axes>"
      ]
     },
     "metadata": {
      "needs_background": "light"
     },
     "output_type": "display_data"
    }
   ],
   "source": [
    "sns.heatmap(data.corr())"
   ]
  },
  {
   "cell_type": "markdown",
   "metadata": {},
   "source": [
    "## Covariance\n",
    "- Variables can be related by a linear relationship. \n",
    "- This is a relationship that is consistently additive across the two data samples.\n",
    "\n",
    "- <b>This relationship can be summarized between two variables, called the covariance.</b>\n",
    "- It is calculated as the average of the product between the values from each sample, where the values haven been centered (had their mean subtracted).\n",
    "\n",
    "- The calculation of the sample covariance is as follows:\n",
    "\n",
    "                     cov(X, Y) = (sum (x - mean(X)) * (y - mean(Y)) ) * 1/(n-1)\n",
    "\n",
    "                     \n",
    "- The use of the mean in the calculation suggests the need for each data sample to have a Gaussian or Gaussian-like distribution.\n",
    "\n",
    "- The sign of the covariance can be interpreted as whether the two variables change in the same direction (positive) or change in different directions (negative).\n",
    "- The magnitude of the covariance is not easily interpreted. \n",
    "- A covariance value of zero indicates that both variables are completely independent."
   ]
  },
  {
   "cell_type": "markdown",
   "metadata": {},
   "source": [
    "## Spearman’s Correlation / Rank Correlation\n",
    "- Two variables may be related by a nonlinear relationship, such that the relationship is stronger or weaker across the distribution of the variables.\n",
    "\n",
    "- Further, the two variables being considered may have a non-Gaussian distribution.\n",
    "\n",
    "- In this case, the Spearman’s correlation coefficient (named for Charles Spearman) can be used to summarize the strength between the two data samples. \n",
    "- This test of relationship can also be used if there is a linear relationship between the variables, but will have slightly less power (e.g. may result in lower coefficient scores).\n",
    "\n",
    "- As with the Pearson correlation coefficient, the scores are between -1 and 1 for perfectly negatively correlated variables and perfectly positively correlated respectively.\n",
    "\n",
    "- Instead of calculating the coefficient using covariance and standard deviations on the samples themselves, these statistics are calculated from the relative rank of values on each sample. \n",
    "- This is a common approach used in non-parametric statistics, e.g. statistical methods where we do not assume a distribution of the data such as Gaussian.\n",
    "\n",
    "                 Spearman's correlation coefficient = covariance(rank(X), rank(Y)) / (stdv(rank(X)) * stdv(rank(Y)))\n",
    "\n",
    "- A linear relationship between the variables is not assumed, although a monotonic relationship is assumed.\n",
    "- This is a mathematical name for an increasing or decreasing relationship between the two variables.\n"
   ]
  },
  {
   "cell_type": "code",
   "execution_count": null,
   "metadata": {},
   "outputs": [],
   "source": []
  }
 ],
 "metadata": {
  "kernelspec": {
   "display_name": "Python 3",
   "language": "python",
   "name": "python3"
  },
  "language_info": {
   "codemirror_mode": {
    "name": "ipython",
    "version": 3
   },
   "file_extension": ".py",
   "mimetype": "text/x-python",
   "name": "python",
   "nbconvert_exporter": "python",
   "pygments_lexer": "ipython3",
   "version": "3.8.3"
  },
  "toc": {
   "base_numbering": 1,
   "nav_menu": {},
   "number_sections": true,
   "sideBar": true,
   "skip_h1_title": false,
   "title_cell": "Table of Contents",
   "title_sidebar": "Contents",
   "toc_cell": false,
   "toc_position": {},
   "toc_section_display": true,
   "toc_window_display": true
  },
  "varInspector": {
   "cols": {
    "lenName": 16,
    "lenType": 16,
    "lenVar": 40
   },
   "kernels_config": {
    "python": {
     "delete_cmd_postfix": "",
     "delete_cmd_prefix": "del ",
     "library": "var_list.py",
     "varRefreshCmd": "print(var_dic_list())"
    },
    "r": {
     "delete_cmd_postfix": ") ",
     "delete_cmd_prefix": "rm(",
     "library": "var_list.r",
     "varRefreshCmd": "cat(var_dic_list()) "
    }
   },
   "types_to_exclude": [
    "module",
    "function",
    "builtin_function_or_method",
    "instance",
    "_Feature"
   ],
   "window_display": false
  }
 },
 "nbformat": 4,
 "nbformat_minor": 4
}
